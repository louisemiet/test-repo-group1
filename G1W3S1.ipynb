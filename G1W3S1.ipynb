{
  "nbformat": 4,
  "nbformat_minor": 0,
  "metadata": {
    "colab": {
      "provenance": []
    },
    "kernelspec": {
      "name": "python3",
      "display_name": "Python 3"
    },
    "language_info": {
      "name": "python"
    }
  },
  "cells": [
    {
      "cell_type": "code",
      "execution_count": null,
      "metadata": {
        "colab": {
          "base_uri": "https://localhost:8080/"
        },
        "id": "o4pWZzC34aD6",
        "outputId": "8228fcf8-b7ef-48ac-c496-a3a13cfd378e"
      },
      "outputs": [
        {
          "output_type": "stream",
          "name": "stdout",
          "text": [
            "enter a number: 88\n",
            "positive? True\n"
          ]
        }
      ],
      "source": [
        "num = int(input(\"enter a number: \"))\n",
        "if num >0 :\n",
        "    positive=True\n",
        "else:\n",
        "    negative=False\n",
        "print (\"positive?\", positive)\n"
      ]
    },
    {
      "cell_type": "markdown",
      "source": [
        "if age < 18 you cannot watch film\n",
        "if age >= 18 you can watch it\n",
        "if you are over 60 you are a senior and you have a discount"
      ],
      "metadata": {
        "id": "W3lQNwVQ5jUt"
      }
    },
    {
      "cell_type": "code",
      "source": [
        "age=int(input(\"enter age: \"))\n",
        "if age <18:\n",
        "  print (\"No\")\n",
        "else:\n",
        "  print (\"yes\")"
      ],
      "metadata": {
        "colab": {
          "base_uri": "https://localhost:8080/"
        },
        "id": "OcaBr3ip5sz8",
        "outputId": "6af77f46-4d56-4b04-d3b5-6f31c72ca24b"
      },
      "execution_count": null,
      "outputs": [
        {
          "output_type": "stream",
          "name": "stdout",
          "text": [
            "enter age: 16\n",
            "No\n"
          ]
        }
      ]
    },
    {
      "cell_type": "code",
      "source": [
        "age=int(input(\"enter age: \"))\n",
        "if age <18:\n",
        "  watch = False\n",
        "else:\n",
        "  watch = True\n",
        "\n",
        "if age >=60:\n",
        "    senior = True\n",
        "else:\n",
        "    senior = False\n",
        "print (age, watch, senior)"
      ],
      "metadata": {
        "colab": {
          "base_uri": "https://localhost:8080/"
        },
        "id": "q7Bi07Va6BMZ",
        "outputId": "33630988-09a4-41c7-b2b2-f67a7011804d"
      },
      "execution_count": null,
      "outputs": [
        {
          "output_type": "stream",
          "name": "stdout",
          "text": [
            "enter age: 8\n",
            "8 False False\n"
          ]
        }
      ]
    },
    {
      "cell_type": "markdown",
      "source": [
        "if your score is less than 10 you fail\n",
        "if 10-20 you pass\n",
        "if >15 distinction"
      ],
      "metadata": {
        "id": "I2wbLDaB6odr"
      }
    },
    {
      "cell_type": "code",
      "source": [
        "score = int(input(\"enter score\"))\n",
        "if score<10:\n",
        "    fail=True\n",
        "else:\n",
        "  fail = False\n",
        "if score >=15:\n",
        "  distinction=True\n",
        "else:\n",
        "  distinction= False\n",
        "  print (score, fail, distinction)"
      ],
      "metadata": {
        "colab": {
          "base_uri": "https://localhost:8080/"
        },
        "id": "2gLzZprT6zDe",
        "outputId": "8bbe2ac6-dce5-4de9-f6b0-97cab621a81c"
      },
      "execution_count": null,
      "outputs": [
        {
          "output_type": "stream",
          "name": "stdout",
          "text": [
            "enter score8\n",
            "8 True False\n",
            "enter score9\n",
            "9 True False\n"
          ]
        }
      ]
    },
    {
      "cell_type": "markdown",
      "source": [
        "if temp > 20 degrees, you turn on the heat.\n",
        "if the heat is on you close the windows\n",
        "if the windows are closed, turn on the ventilation."
      ],
      "metadata": {
        "id": "67ayK6bu7lTN"
      }
    },
    {
      "cell_type": "code",
      "source": [
        "temp = int(input(\"enter a temp: \"))\n",
        "if temp<20:\n",
        "  heat= True\n",
        "else:\n",
        "  heat= False\n",
        "if heat==True:\n",
        "  close_windows = False\n",
        "else:\n",
        "  close_windows = True\n",
        "if close_windows == True:\n",
        "  ventilation == True\n",
        "else:\n",
        "  ventilation= True\n",
        "print (temp, heat, closed_windows, ventilation)\n"
      ],
      "metadata": {
        "id": "SXyEJ-f172po",
        "colab": {
          "base_uri": "https://localhost:8080/",
          "height": 228
        },
        "outputId": "c9f363f3-69b6-46a2-da4b-0b8ceca1c565"
      },
      "execution_count": 25,
      "outputs": [
        {
          "name": "stdout",
          "output_type": "stream",
          "text": [
            "enter a temp: 25\n"
          ]
        },
        {
          "output_type": "error",
          "ename": "NameError",
          "evalue": "name 'ventilation' is not defined",
          "traceback": [
            "\u001b[0;31m---------------------------------------------------------------------------\u001b[0m",
            "\u001b[0;31mNameError\u001b[0m                                 Traceback (most recent call last)",
            "\u001b[0;32m<ipython-input-25-97f36eb52dca>\u001b[0m in \u001b[0;36m<cell line: 10>\u001b[0;34m()\u001b[0m\n\u001b[1;32m      9\u001b[0m   \u001b[0mclose_windows\u001b[0m \u001b[0;34m=\u001b[0m \u001b[0;32mTrue\u001b[0m\u001b[0;34m\u001b[0m\u001b[0;34m\u001b[0m\u001b[0m\n\u001b[1;32m     10\u001b[0m \u001b[0;32mif\u001b[0m \u001b[0mclose_windows\u001b[0m \u001b[0;34m==\u001b[0m \u001b[0;32mTrue\u001b[0m\u001b[0;34m:\u001b[0m\u001b[0;34m\u001b[0m\u001b[0;34m\u001b[0m\u001b[0m\n\u001b[0;32m---> 11\u001b[0;31m   \u001b[0mventilation\u001b[0m \u001b[0;34m==\u001b[0m \u001b[0;32mTrue\u001b[0m\u001b[0;34m\u001b[0m\u001b[0;34m\u001b[0m\u001b[0m\n\u001b[0m\u001b[1;32m     12\u001b[0m \u001b[0;32melse\u001b[0m\u001b[0;34m:\u001b[0m\u001b[0;34m\u001b[0m\u001b[0;34m\u001b[0m\u001b[0m\n\u001b[1;32m     13\u001b[0m   \u001b[0mventilation\u001b[0m\u001b[0;34m=\u001b[0m \u001b[0;32mTrue\u001b[0m\u001b[0;34m\u001b[0m\u001b[0;34m\u001b[0m\u001b[0m\n",
            "\u001b[0;31mNameError\u001b[0m: name 'ventilation' is not defined"
          ]
        }
      ]
    },
    {
      "cell_type": "code",
      "source": [
        "students = [\"Mary\", \"Tom\", \"Stelios\", \"Kate\"]\n",
        "scores = [15, 12, 9, 13]\n",
        "print (students)\n",
        "print (scores)"
      ],
      "metadata": {
        "colab": {
          "base_uri": "https://localhost:8080/"
        },
        "id": "qsNtUjP_94B4",
        "outputId": "70ea2741-597f-4abc-8a02-e7b494c39c6c"
      },
      "execution_count": 26,
      "outputs": [
        {
          "output_type": "stream",
          "name": "stdout",
          "text": [
            "['Mary', 'Tom', 'Stelios', 'Kate']\n",
            "[15, 12, 9, 13]\n"
          ]
        }
      ]
    },
    {
      "cell_type": "code",
      "source": [
        "students = [\"Mary\", \"Tom\", \"Stelios\", \"Kate\"]\n",
        "scores = [15, 12, 9, 13]\n",
        "print (students [-1])\n",
        "print (scores)"
      ],
      "metadata": {
        "colab": {
          "base_uri": "https://localhost:8080/"
        },
        "id": "FK5x0vRB-U6m",
        "outputId": "9f919ac7-c5fc-4fcf-e0a9-e7d8c7b74e2d"
      },
      "execution_count": 27,
      "outputs": [
        {
          "output_type": "stream",
          "name": "stdout",
          "text": [
            "Kate\n",
            "[15, 12, 9, 13]\n"
          ]
        }
      ]
    },
    {
      "cell_type": "code",
      "source": [
        "students = [\"Mary\", \"Tom\", \"Stelios\", \"Kate\"]\n",
        "scores = [15, 12, 9, 13]\n",
        "print (students [0:2])\n",
        "print (scores)"
      ],
      "metadata": {
        "colab": {
          "base_uri": "https://localhost:8080/"
        },
        "id": "8MtJ54KG-elF",
        "outputId": "1fa16d5a-b2a6-4ce3-ebe6-c7f06c7c9445"
      },
      "execution_count": 28,
      "outputs": [
        {
          "output_type": "stream",
          "name": "stdout",
          "text": [
            "['Mary', 'Tom']\n",
            "[15, 12, 9, 13]\n"
          ]
        }
      ]
    },
    {
      "cell_type": "code",
      "source": [
        "numbers = [10, 20, 30, 40, 50, 60, 70, 80, 90]\n",
        "# print -> 20\n",
        "# print -> 80\n",
        "# print -> 10, 20, 30\n",
        "# print last 3 elements\n",
        "# print -> 50, 60\n",
        "print (numbers [1])\n",
        "print (numbers [-2])\n",
        "print (numbers [0:3])\n",
        "print (numbers [-3:])\n",
        "print (numbers [4:6])\n",
        "\n",
        ""
      ],
      "metadata": {
        "colab": {
          "base_uri": "https://localhost:8080/"
        },
        "id": "0PgaEeCS--mT",
        "outputId": "b7714e50-5561-4080-d2c0-de6c553e23fa"
      },
      "execution_count": 32,
      "outputs": [
        {
          "output_type": "stream",
          "name": "stdout",
          "text": [
            "20\n",
            "80\n",
            "[10, 20, 30]\n",
            "[70, 80, 90]\n",
            "[50, 60]\n"
          ]
        }
      ]
    }
  ]
}